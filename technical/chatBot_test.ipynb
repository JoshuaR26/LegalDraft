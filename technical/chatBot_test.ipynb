{
 "cells": [
  {
   "cell_type": "code",
   "execution_count": 1,
   "id": "9ea40f41-f04a-4d20-8ae1-562db8e0a19f",
   "metadata": {},
   "outputs": [],
   "source": [
    "import json\n",
    "from difflib import get_close_matches "
   ]
  },
  {
   "cell_type": "code",
   "execution_count": 3,
   "id": "6c905299-839a-4d81-8f66-579ee653f706",
   "metadata": {},
   "outputs": [],
   "source": [
    "with open('datasets/knowledge_base.json', 'r') as f:\n",
    "    data = json.load(f)"
   ]
  },
  {
   "cell_type": "code",
   "execution_count": 14,
   "id": "562cb3c8-58e7-4507-8b65-5e102bb57378",
   "metadata": {},
   "outputs": [],
   "source": [
    "def find_best_match(user_query, sections):\n",
    "    matches = get_close_matches(user_query, sections, n=1, cutoff=0.5)\n",
    "    return matches[0] if matches else None"
   ]
  },
  {
   "cell_type": "code",
   "execution_count": 33,
   "id": "fc7cce97-35df-47aa-9c5a-3d3f39d84f55",
   "metadata": {},
   "outputs": [],
   "source": [
    "def get_answer(section, knowledge_base):\n",
    "    for s in knowledge_base['sections']:\n",
    "        if s['section'] == section:\n",
    "            return [s['number'],s['answer']]"
   ]
  },
  {
   "cell_type": "code",
   "execution_count": 34,
   "id": "1a7b159f-2f9b-4858-8cda-0f50944d5de3",
   "metadata": {},
   "outputs": [],
   "source": [
    "def chatBot():\n",
    "    chatbot_data_path = 'datasets/knowledge_base.json' \n",
    "    \n",
    "    with open(chatbot_data_path, 'r') as f:\n",
    "        knowledge_base = json.load(f)\n",
    "    cnt = 0\n",
    "    \n",
    "    while cnt<1:\n",
    "        cnt+=1\n",
    "        user_input = input('USER: ')\n",
    "    \n",
    "        if user_input == 'exit':\n",
    "            break\n",
    "            \n",
    "        best_match = find_best_match(user_input, [s['section'] for s in knowledge_base['sections']])\n",
    "    \n",
    "        if best_match:\n",
    "            # for i in range(3):\n",
    "            #     section = get_section(best_match[i], chatbot_data)\n",
    "            #     print(section)\n",
    "            #     print()\n",
    "            answer = get_answer(best_match, knowledge_base)\n",
    "            print(f'Bestie: {answer[0]}:{answer[1]}')\n",
    "        else:\n",
    "            print('i fucin dunno')"
   ]
  },
  {
   "cell_type": "code",
   "execution_count": 35,
   "id": "ea998fc7-6cdf-48d1-a597-386c0897f6a6",
   "metadata": {},
   "outputs": [
    {
     "name": "stdin",
     "output_type": "stream",
     "text": [
      "USER:  kill myself\n"
     ]
    },
    {
     "name": "stdout",
     "output_type": "stream",
     "text": [
      "Bestie: 239:dont kill yourself\n"
     ]
    }
   ],
   "source": [
    "chatBot()"
   ]
  }
 ],
 "metadata": {
  "kernelspec": {
   "display_name": "Python 3 (ipykernel)",
   "language": "python",
   "name": "python3"
  },
  "language_info": {
   "codemirror_mode": {
    "name": "ipython",
    "version": 3
   },
   "file_extension": ".py",
   "mimetype": "text/x-python",
   "name": "python",
   "nbconvert_exporter": "python",
   "pygments_lexer": "ipython3",
   "version": "3.10.10"
  }
 },
 "nbformat": 4,
 "nbformat_minor": 5
}
