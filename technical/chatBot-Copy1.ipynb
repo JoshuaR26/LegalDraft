{
 "cells": [
  {
   "cell_type": "code",
   "execution_count": 1,
   "id": "33f52237-5367-4f2a-ae1a-84c9a76b5273",
   "metadata": {},
   "outputs": [
    {
     "name": "stdin",
     "output_type": "stream",
     "text": [
      "USER:  i have been raped\n"
     ]
    },
    {
     "name": "stdout",
     "output_type": "stream",
     "text": [
      "Kindly enter a more detailed report that contains strong keywords to help you out in your case.\n"
     ]
    },
    {
     "name": "stdin",
     "output_type": "stream",
     "text": [
      "USER:  yo baby\n"
     ]
    },
    {
     "name": "stdout",
     "output_type": "stream",
     "text": [
      "BOT: 4:\n",
      "Subs. by s. 2 and Sch. i. ibid., for \"or navy\".\n",
      "\n"
     ]
    },
    {
     "ename": "IndexError",
     "evalue": "list index out of range",
     "output_type": "error",
     "traceback": [
      "\u001b[1;31m---------------------------------------------------------------------------\u001b[0m",
      "\u001b[1;31mIndexError\u001b[0m                                Traceback (most recent call last)",
      "Cell \u001b[1;32mIn[1], line 68\u001b[0m\n\u001b[0;32m     64\u001b[0m                 \u001b[38;5;28;01mbreak\u001b[39;00m\n\u001b[0;32m     66\u001b[0m         \u001b[38;5;28mprint\u001b[39m(\u001b[38;5;124m'\u001b[39m\u001b[38;5;124mKindly enter a more detailed report that contains strong keywords to help you out in your case.\u001b[39m\u001b[38;5;124m'\u001b[39m)\n\u001b[1;32m---> 68\u001b[0m \u001b[43mchatbot\u001b[49m\u001b[43m(\u001b[49m\u001b[43mdata\u001b[49m\u001b[43m)\u001b[49m\n",
      "Cell \u001b[1;32mIn[1], line 60\u001b[0m, in \u001b[0;36mchatbot\u001b[1;34m(data)\u001b[0m\n\u001b[0;32m     58\u001b[0m cnt \u001b[38;5;241m=\u001b[39m \u001b[38;5;241m1\u001b[39m\n\u001b[0;32m     59\u001b[0m \u001b[38;5;28;01mif\u001b[39;00m best_match:\n\u001b[1;32m---> 60\u001b[0m     law \u001b[38;5;241m=\u001b[39m get_section(\u001b[43mbest_match\u001b[49m\u001b[43m[\u001b[49m\u001b[43mi\u001b[49m\u001b[43m]\u001b[49m, data)\n\u001b[0;32m     61\u001b[0m     \u001b[38;5;28mprint\u001b[39m(\u001b[38;5;124mf\u001b[39m\u001b[38;5;124m'\u001b[39m\u001b[38;5;124mBOT: \u001b[39m\u001b[38;5;132;01m{\u001b[39;00mlaw[\u001b[38;5;241m0\u001b[39m]\u001b[38;5;132;01m}\u001b[39;00m\u001b[38;5;124m:\u001b[39m\u001b[38;5;130;01m\\n\u001b[39;00m\u001b[38;5;132;01m{\u001b[39;00mlaw[\u001b[38;5;241m1\u001b[39m]\u001b[38;5;132;01m}\u001b[39;00m\u001b[38;5;124m'\u001b[39m )\n\u001b[0;32m     62\u001b[0m     \u001b[38;5;28mprint\u001b[39m()\n",
      "\u001b[1;31mIndexError\u001b[0m: list index out of range"
     ]
    }
   ],
   "source": [
    "import json\n",
    "from difflib import get_close_matches \n",
    "\n",
    "import nltk\n",
    "from nltk.stem import WordNetLemmatizer\n",
    "from nltk.corpus import stopwords\n",
    "\n",
    "import re\n",
    "\n",
    "data_path = 'datasets/IPC_chatBot.json'\n",
    "\n",
    "with open(data_path, 'r') as file:\n",
    "    data = json.load(file)\n",
    "\n",
    "def find_best_match(user_query, keywords):\n",
    "    matches = get_close_matches(user_query, keywords, n=3, cutoff=0.3)\n",
    "    return matches if matches else None\n",
    "\n",
    "def get_section(keyword, data):\n",
    "    for s in data['sections']:\n",
    "        if s['keywords'] == keyword:\n",
    "            return [s['number'], s['section']]\n",
    "\n",
    "def clean_input(user_input):\n",
    "\n",
    "    stop_words = stopwords.words('english')\n",
    "    \n",
    "    lem = WordNetLemmatizer()\n",
    "    \n",
    "    user_input= re.sub(r'[^\\w]', ' ', user_input)\n",
    "    user_input = re.sub(r'\\s\\s*', ' ', user_input)\n",
    "\n",
    "    user_input = lem.lemmatize(user_input)\n",
    "    user_input = nltk.word_tokenize(user_input.lower())\n",
    "    \n",
    "    for word in user_input:\n",
    "        if word in stop_words:\n",
    "            user_input.remove(word)\n",
    "            \n",
    "    user_input = sorted(set(user_input))\n",
    "    user_input = ' '.join(user_input)\n",
    "\n",
    "    return user_input\n",
    "\n",
    "def chatbot(data):\n",
    "    \n",
    "    while True:\n",
    "        user_input = input('USER: ')\n",
    "    \n",
    "        if user_input == 'exit':\n",
    "            break\n",
    "        else:\n",
    "            user_input = clean_input(user_input)\n",
    "        \n",
    "        best_match = find_best_match(user_input, [s['keywords'] for s in data['sections']])\n",
    "\n",
    "        for i in range(3):\n",
    "            cnt = 1\n",
    "            if best_match:\n",
    "                law = get_section(best_match[i], data)\n",
    "                print(f'BOT: {law[0]}:\\n{law[1]}' )\n",
    "                print()\n",
    "            else:\n",
    "                break\n",
    "        \n",
    "        print('Kindly enter a more detailed report that contains strong keywords to help you out in your case.')\n",
    "\n",
    "chatbot(data)"
   ]
  }
 ],
 "metadata": {
  "kernelspec": {
   "display_name": "Python 3 (ipykernel)",
   "language": "python",
   "name": "python3"
  },
  "language_info": {
   "codemirror_mode": {
    "name": "ipython",
    "version": 3
   },
   "file_extension": ".py",
   "mimetype": "text/x-python",
   "name": "python",
   "nbconvert_exporter": "python",
   "pygments_lexer": "ipython3",
   "version": "3.10.10"
  }
 },
 "nbformat": 4,
 "nbformat_minor": 5
}
