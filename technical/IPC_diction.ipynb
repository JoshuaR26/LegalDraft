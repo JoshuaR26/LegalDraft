{
 "cells": [
  {
   "cell_type": "code",
   "execution_count": 1,
   "id": "76795577-a441-416f-b8bc-979b203c24bb",
   "metadata": {},
   "outputs": [],
   "source": [
    "import PyPDF2"
   ]
  },
  {
   "cell_type": "code",
   "execution_count": 2,
   "id": "726adb55-c6b3-4d0b-b500-4d08178b9188",
   "metadata": {},
   "outputs": [],
   "source": [
    "ipc_path = 'datasets/THE-INDIAN-PENAL-CODE-1860.pdf'"
   ]
  },
  {
   "cell_type": "code",
   "execution_count": 6,
   "id": "c90c085a-8999-4e41-b9be-7a97fb526f92",
   "metadata": {},
   "outputs": [],
   "source": [
    "with open(ipc_path, 'rb') as file:\n",
    "    reader = PyPDF2.PdfReader(file)\n",
    "    "
   ]
  },
  {
   "cell_type": "code",
   "execution_count": null,
   "id": "eb0a1200-5e23-45ea-a00d-df6ef511964c",
   "metadata": {},
   "outputs": [],
   "source": []
  }
 ],
 "metadata": {
  "kernelspec": {
   "display_name": "Python 3 (ipykernel)",
   "language": "python",
   "name": "python3"
  },
  "language_info": {
   "codemirror_mode": {
    "name": "ipython",
    "version": 3
   },
   "file_extension": ".py",
   "mimetype": "text/x-python",
   "name": "python",
   "nbconvert_exporter": "python",
   "pygments_lexer": "ipython3",
   "version": "3.10.10"
  }
 },
 "nbformat": 4,
 "nbformat_minor": 5
}
