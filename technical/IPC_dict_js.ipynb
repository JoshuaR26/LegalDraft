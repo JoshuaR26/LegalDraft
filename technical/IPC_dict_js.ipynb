{
 "cells": [
  {
   "cell_type": "code",
   "execution_count": 28,
   "id": "93013138-2b3a-40f3-ad3d-1f06141fa44e",
   "metadata": {},
   "outputs": [],
   "source": [
    "import json\n",
    "import nltk\n",
    "\n",
    "from nltk.stem import WordNetLemmatizer "
   ]
  },
  {
   "cell_type": "code",
   "execution_count": 29,
   "id": "658970cb-2ae3-4834-b98b-718211223f0d",
   "metadata": {},
   "outputs": [],
   "source": [
    "IPC_dict_path = 'datasets/IPC_dictionary.json'"
   ]
  },
  {
   "cell_type": "code",
   "execution_count": 30,
   "id": "69ebd31e-d69e-4fe2-8107-84a0945e6252",
   "metadata": {},
   "outputs": [],
   "source": [
    "with open(IPC_dict_path, 'r') as f:\n",
    "    IPC_dict  = json.load(f)"
   ]
  },
  {
   "cell_type": "code",
   "execution_count": 31,
   "id": "d53006f3-1f42-45ba-b4ca-f086bb958704",
   "metadata": {},
   "outputs": [],
   "source": [
    "IPC = {}\n",
    "sections = []\n",
    "\n",
    "for number, section in IPC_dict.items():\n",
    "    query ={}\n",
    "    query[\"number\"] = f'{number}'\n",
    "    query[\"section\"] =  f'{section}'\n",
    "    sections.append(query)"
   ]
  }
 ],
 "metadata": {
  "kernelspec": {
   "display_name": "Python 3 (ipykernel)",
   "language": "python",
   "name": "python3"
  },
  "language_info": {
   "codemirror_mode": {
    "name": "ipython",
    "version": 3
   },
   "file_extension": ".py",
   "mimetype": "text/x-python",
   "name": "python",
   "nbconvert_exporter": "python",
   "pygments_lexer": "ipython3",
   "version": "3.10.10"
  }
 },
 "nbformat": 4,
 "nbformat_minor": 5
}
