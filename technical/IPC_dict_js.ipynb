{
 "cells": [
  {
   "cell_type": "code",
   "execution_count": 30,
   "id": "93013138-2b3a-40f3-ad3d-1f06141fa44e",
   "metadata": {},
   "outputs": [],
   "source": [
    "import json\n",
    "import nltk\n",
    "import re\n",
    "\n",
    "from nltk.stem import WordNetLemmatizer \n",
    "from nltk.corpus import stopwords"
   ]
  },
  {
   "cell_type": "code",
   "execution_count": 2,
   "id": "658970cb-2ae3-4834-b98b-718211223f0d",
   "metadata": {},
   "outputs": [],
   "source": [
    "IPC_dict_path = 'datasets/IPC_dictionary.json'"
   ]
  },
  {
   "cell_type": "code",
   "execution_count": 60,
   "id": "69ebd31e-d69e-4fe2-8107-84a0945e6252",
   "metadata": {},
   "outputs": [],
   "source": [
    "with open(IPC_dict_path, 'r') as f:\n",
    "    IPC_dict  = json.load(f)"
   ]
  },
  {
   "cell_type": "code",
   "execution_count": 99,
   "id": "d53006f3-1f42-45ba-b4ca-f086bb958704",
   "metadata": {},
   "outputs": [],
   "source": [
    "sections = []\n",
    "\n",
    "for number, section in IPC_dict.items():\n",
    "    query ={}\n",
    "    query[\"number\"] = f'{number}'\n",
    "    query[\"section\"] =  f'{section}'\n",
    "    sections.append(query)"
   ]
  },
  {
   "cell_type": "code",
   "execution_count": 117,
   "id": "4dd5a870-710b-4657-9e4e-714334928629",
   "metadata": {},
   "outputs": [
    {
     "name": "stdout",
     "output_type": "stream",
     "text": [
      "['i', 'me', 'my', 'myself', 'we', 'our', 'ours', 'ourselves', 'you', \"you're\", \"you've\", \"you'll\", \"you'd\", 'your', 'yours', 'yourself', 'yourselves', 'he', 'him', 'his', 'himself', 'she', \"she's\", 'her', 'hers', 'herself', 'it', \"it's\", 'its', 'itself', 'they', 'them', 'their', 'theirs', 'themselves', 'what', 'which', 'who', 'whom', 'this', 'that', \"that'll\", 'these', 'those', 'am', 'is', 'are', 'was', 'were', 'be', 'been', 'being', 'have', 'has', 'had', 'having', 'do', 'does', 'did', 'doing', 'a', 'an', 'the', 'and', 'but', 'if', 'or', 'because', 'as', 'until', 'while', 'of', 'at', 'by', 'for', 'with', 'about', 'against', 'between', 'into', 'through', 'during', 'before', 'after', 'above', 'below', 'to', 'from', 'up', 'down', 'in', 'out', 'on', 'off', 'over', 'under', 'again', 'further', 'then', 'once', 'here', 'there', 'when', 'where', 'why', 'how', 'all', 'any', 'both', 'each', 'few', 'more', 'most', 'other', 'some', 'such', 'no', 'nor', 'not', 'only', 'own', 'same', 'so', 'than', 'too', 'very', 's', 't', 'can', 'will', 'just', 'don', \"don't\", 'should', \"should've\", 'now', 'd', 'll', 'm', 'o', 're', 've', 'y', 'ain', 'aren', \"aren't\", 'couldn', \"couldn't\", 'didn', \"didn't\", 'doesn', \"doesn't\", 'hadn', \"hadn't\", 'hasn', \"hasn't\", 'haven', \"haven't\", 'isn', \"isn't\", 'ma', 'mightn', \"mightn't\", 'mustn', \"mustn't\", 'needn', \"needn't\", 'shan', \"shan't\", 'shouldn', \"shouldn't\", 'wasn', \"wasn't\", 'weren', \"weren't\", 'won', \"won't\", 'wouldn', \"wouldn't\"]\n"
     ]
    }
   ],
   "source": [
    "stop_words = stopwords.words('english')\n",
    "print(stop_words)"
   ]
  },
  {
   "cell_type": "code",
   "execution_count": 19,
   "id": "d4fa38a2-23b2-4d8c-8286-5e15b7dde4f8",
   "metadata": {},
   "outputs": [],
   "source": [
    "lem = WordNetLemmatizer()"
   ]
  },
  {
   "cell_type": "code",
   "execution_count": 124,
   "id": "fc77ecbe-7c32-4061-9cef-e42d2a16cbc3",
   "metadata": {},
   "outputs": [],
   "source": [
    "cnt = 0\n",
    "for number, section in IPC_dict.items():\n",
    "    keywords = IPC_dict[number]\n",
    "    \n",
    "    keywords = re.sub(r'[^\\w]', ' ', keywords)\n",
    "    keywords = re.sub(r'\\s\\s*', ' ', keywords)\n",
    "\n",
    "    keywords = lem.lemmatize(keywords)\n",
    "    keywords = nltk.word_tokenize(keywords.lower())\n",
    "    \n",
    "    for word in keywords:\n",
    "        if word in stop_words:\n",
    "            keywords.remove(word)\n",
    "            \n",
    "    keywords = sorted(set(keywords))\n",
    "    keywords = ' '.join(keywords)\n",
    "\n",
    "    sections[cnt][\"keywords\"] = keywords\n",
    "    cnt += 1"
   ]
  },
  {
   "cell_type": "code",
   "execution_count": 127,
   "id": "c7b517b7-6d23-4881-b148-11a7ea4fd048",
   "metadata": {},
   "outputs": [],
   "source": [
    "IPC = {}\n",
    "IPC['sections'] = sections"
   ]
  },
  {
   "cell_type": "code",
   "execution_count": 133,
   "id": "1a256048-1215-49ee-b3a5-9a9ad2574180",
   "metadata": {},
   "outputs": [],
   "source": [
    "with open('datasets/IPC_chatBot.json', 'w') as f:\n",
    "    json.dump(IPC, f)"
   ]
  }
 ],
 "metadata": {
  "kernelspec": {
   "display_name": "Python 3 (ipykernel)",
   "language": "python",
   "name": "python3"
  },
  "language_info": {
   "codemirror_mode": {
    "name": "ipython",
    "version": 3
   },
   "file_extension": ".py",
   "mimetype": "text/x-python",
   "name": "python",
   "nbconvert_exporter": "python",
   "pygments_lexer": "ipython3",
   "version": "3.10.10"
  }
 },
 "nbformat": 4,
 "nbformat_minor": 5
}
