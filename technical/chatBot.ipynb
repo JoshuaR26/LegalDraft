{
 "cells": [
  {
   "cell_type": "code",
   "execution_count": 3,
   "id": "0f5503b8-aa24-42bd-99d1-12e264cfd60d",
   "metadata": {},
   "outputs": [],
   "source": [
    "import json\n",
    "from difflib import get_close_matches"
   ]
  },
  {
   "cell_type": "code",
   "execution_count": 4,
   "id": "e0ae1303-7889-45f0-abb5-950d8e24bd41",
   "metadata": {},
   "outputs": [],
   "source": [
    "chatbot_data_path = 'datasets/IPC_chatBot.json' "
   ]
  },
  {
   "cell_type": "code",
   "execution_count": 8,
   "id": "a886050c-e912-407a-a2ce-d91bd3d0840d",
   "metadata": {},
   "outputs": [],
   "source": [
    "with open(chatbot_data_path, 'r') as f:\n",
    "    chatbot_data = json.load(f)"
   ]
  },
  {
   "cell_type": "code",
   "execution_count": null,
   "id": "aac9497f-70df-408a-afa5-c2fd99c8cdad",
   "metadata": {},
   "outputs": [],
   "source": [
    "def best_match(user_query, ):\n",
    "    "
   ]
  }
 ],
 "metadata": {
  "kernelspec": {
   "display_name": "Python 3 (ipykernel)",
   "language": "python",
   "name": "python3"
  },
  "language_info": {
   "codemirror_mode": {
    "name": "ipython",
    "version": 3
   },
   "file_extension": ".py",
   "mimetype": "text/x-python",
   "name": "python",
   "nbconvert_exporter": "python",
   "pygments_lexer": "ipython3",
   "version": "3.10.10"
  }
 },
 "nbformat": 4,
 "nbformat_minor": 5
}
