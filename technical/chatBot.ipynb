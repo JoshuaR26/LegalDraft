{
 "cells": [
  {
   "cell_type": "code",
   "execution_count": 176,
   "id": "11cbe9e8-7ced-4fb1-a90b-62f0b4045eb5",
   "metadata": {},
   "outputs": [],
   "source": [
    "import json\n",
    "from difflib import get_close_matches \n",
    "\n",
    "import nltk\n",
    "from nltk.stem import WordNetLemmatizer\n",
    "from nltk.corpus import stopwords\n",
    "\n",
    "import re"
   ]
  },
  {
   "cell_type": "code",
   "execution_count": 163,
   "id": "dee39c9a-ec21-474e-a9f8-e70a32919c66",
   "metadata": {},
   "outputs": [],
   "source": [
    "data_path = 'datasets/IPC_chatBot.json'\n",
    "\n",
    "with open(data_path, 'r') as file:\n",
    "    data = json.load(file)"
   ]
  },
  {
   "cell_type": "code",
   "execution_count": 191,
   "id": "3c0aa5fd-1045-4a54-9e88-dc0523bb89cb",
   "metadata": {},
   "outputs": [],
   "source": [
    "def find_best_match(user_query, keywords):\n",
    "    matches = get_close_matches(user_query, keywords, n=3, cutoff=0.4)\n",
    "    return matches if matches else None"
   ]
  },
  {
   "cell_type": "code",
   "execution_count": 159,
   "id": "0d3b5a51-7fe1-49a9-8171-15d9e06584e1",
   "metadata": {},
   "outputs": [],
   "source": [
    "def get_section(keyword, data):\n",
    "    for s in data['sections']:\n",
    "        if s['keywords'] == keyword:\n",
    "            return [s['number'], s['section']]"
   ]
  },
  {
   "cell_type": "code",
   "execution_count": 192,
   "id": "f5afe194-2abc-4b53-b387-1ab0742dc18a",
   "metadata": {},
   "outputs": [],
   "source": [
    "def clean_input(user_input):\n",
    "\n",
    "    stop_words = stopwords.words('english')\n",
    "    \n",
    "    lem = WordNetLemmatizer()\n",
    "    \n",
    "    user_input= re.sub(r'[^\\w]', ' ', user_input)\n",
    "    user_input = re.sub(r'\\s\\s*', ' ', user_input)\n",
    "\n",
    "    user_input = lem.lemmatize(user_input)\n",
    "    user_input = nltk.word_tokenize(user_input.lower())\n",
    "    \n",
    "    for word in user_input:\n",
    "        if word in stop_words:\n",
    "            user_input.remove(word)\n",
    "            \n",
    "    user_input = sorted(set(user_input))\n",
    "    user_input = ' '.join(user_input)\n",
    "\n",
    "    return user_input"
   ]
  },
  {
   "cell_type": "code",
   "execution_count": 193,
   "id": "c8ddc3f5-5bc4-4036-bc02-9904aa0a8602",
   "metadata": {},
   "outputs": [],
   "source": [
    "def chatbot(data):\n",
    "    \n",
    "    while True:\n",
    "        user_input = input('USER: ')\n",
    "    \n",
    "        if user_input == 'exit':\n",
    "            break\n",
    "        else:\n",
    "            user_input = clean_input(user_input)\n",
    "        \n",
    "        best_match = find_best_match(user_input, [s['keywords'] for s in data['sections']])\n",
    "\n",
    "        for i in range(3):\n",
    "            if best_match:\n",
    "                law = get_section(best_match[i], data)\n",
    "                print(f'BOT: {law[0]}:\\n{law[1]}' )\n",
    "                print()\n",
    "            else:\n",
    "                print(\"I'm sorry to hear that. But, in order to serve you a tasty bowl of justice I will need more information on your case. Try mentioning the details of the case in detail such as strong keywords.\")"
   ]
  },
  {
   "cell_type": "code",
   "execution_count": null,
   "id": "07c9558c-5fb5-4a5f-bf95-c48fc8e342a9",
   "metadata": {},
   "outputs": [
    {
     "name": "stdin",
     "output_type": "stream",
     "text": [
      "USER:  I HAVE SEXUALLY ASSULTED MY WIFE. SHE TOOK MY PROPERTY AWAY FROM ME. EXRTORSION. \n"
     ]
    },
    {
     "name": "stdout",
     "output_type": "stream",
     "text": [
      "BOT: 127:\n",
      "Receiving property taken by war or depredation mentioned in sections 125 and\n",
      "\n",
      "BOT: 330:\n",
      "Voluntarily causing hurt to extort confession or to compel restoration of property.\n",
      "\n",
      "BOT: 44:\n",
      "\"Injury\".--The word \"injury\" denotes any harm whatever illegally caused to any person, in body, mind, reputation or property.\n",
      "\n"
     ]
    }
   ],
   "source": [
    "chatbot(data)"
   ]
  },
  {
   "cell_type": "code",
   "execution_count": null,
   "id": "a1e36572-e35c-489b-888e-009390d5c5fb",
   "metadata": {},
   "outputs": [],
   "source": [
    "data[]"
   ]
  }
 ],
 "metadata": {
  "kernelspec": {
   "display_name": "Python 3 (ipykernel)",
   "language": "python",
   "name": "python3"
  },
  "language_info": {
   "codemirror_mode": {
    "name": "ipython",
    "version": 3
   },
   "file_extension": ".py",
   "mimetype": "text/x-python",
   "name": "python",
   "nbconvert_exporter": "python",
   "pygments_lexer": "ipython3",
   "version": "3.10.10"
  }
 },
 "nbformat": 4,
 "nbformat_minor": 5
}
