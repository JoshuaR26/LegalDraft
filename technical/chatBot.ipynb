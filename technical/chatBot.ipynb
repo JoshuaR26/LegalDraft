{
 "cells": [
  {
   "cell_type": "code",
   "execution_count": 15,
   "id": "11cbe9e8-7ced-4fb1-a90b-62f0b4045eb5",
   "metadata": {},
   "outputs": [],
   "source": [
    "import json\n",
    "from difflib import get_close_matches \n",
    "\n",
    "import nltk\n",
    "from nltk.stem import WordNetLemmatizer\n",
    "from nltk.corpus import stopwords\n",
    "\n",
    "import re"
   ]
  },
  {
   "cell_type": "code",
   "execution_count": 16,
   "id": "dee39c9a-ec21-474e-a9f8-e70a32919c66",
   "metadata": {},
   "outputs": [],
   "source": [
    "data_path = 'datasets/IPC_chatBot.json'\n",
    "\n",
    "with open(data_path, 'r') as file:\n",
    "    data = json.load(file)"
   ]
  },
  {
   "cell_type": "code",
   "execution_count": 17,
   "id": "3c0aa5fd-1045-4a54-9e88-dc0523bb89cb",
   "metadata": {},
   "outputs": [],
   "source": [
    "def find_best_match(user_query, keywords):\n",
    "    matches = get_close_matches(user_query, keywords, n=3, cutoff=0.3)\n",
    "    return matches if matches else None"
   ]
  },
  {
   "cell_type": "code",
   "execution_count": 18,
   "id": "0d3b5a51-7fe1-49a9-8171-15d9e06584e1",
   "metadata": {},
   "outputs": [],
   "source": [
    "def get_section(keyword, data):\n",
    "    for s in data['sections']:\n",
    "        if s['keywords'] == keyword:\n",
    "            return [s['number'], s['section']]"
   ]
  },
  {
   "cell_type": "code",
   "execution_count": 19,
   "id": "f5afe194-2abc-4b53-b387-1ab0742dc18a",
   "metadata": {},
   "outputs": [],
   "source": [
    "def clean_input(user_input):\n",
    "\n",
    "    stop_words = stopwords.words('english')\n",
    "    \n",
    "    lem = WordNetLemmatizer()\n",
    "    \n",
    "    user_input= re.sub(r'[^\\w]', ' ', user_input)\n",
    "    user_input = re.sub(r'\\s\\s*', ' ', user_input)\n",
    "\n",
    "    user_input = lem.lemmatize(user_input)\n",
    "    user_input = nltk.word_tokenize(user_input.lower())\n",
    "    \n",
    "    for word in user_input:\n",
    "        if word in stop_words:\n",
    "            user_input.remove(word)\n",
    "            \n",
    "    user_input = sorted(set(user_input))\n",
    "    user_input = ' '.join(user_input)\n",
    "\n",
    "    return user_input"
   ]
  },
  {
   "cell_type": "code",
   "execution_count": 20,
   "id": "c8ddc3f5-5bc4-4036-bc02-9904aa0a8602",
   "metadata": {},
   "outputs": [],
   "source": [
    "def chatbot(data):\n",
    "    \n",
    "    while True:\n",
    "        user_input = input('USER: ')\n",
    "    \n",
    "        if user_input == 'exit':\n",
    "            break\n",
    "        else:\n",
    "            user_input = clean_input(user_input)\n",
    "        \n",
    "        best_match = find_best_match(user_input, [s['keywords'] for s in data['sections']])\n",
    "\n",
    "        for i in range(3):\n",
    "            cnt = 1\n",
    "            if best_match:\n",
    "                law = get_section(best_match[i], data)\n",
    "                print(f'BOT: {law[0]}:\\n{law[1]}' )\n",
    "                print()\n",
    "            else:\n",
    "                break\n",
    "        \n",
    "        print('Kindly enter a more detailed report that contains strong keywords to help you out in your case.')"
   ]
  },
  {
   "cell_type": "code",
   "execution_count": 21,
   "id": "07c9558c-5fb5-4a5f-bf95-c48fc8e342a9",
   "metadata": {},
   "outputs": [
    {
     "name": "stdout",
     "output_type": "stream",
     "text": [
      "BOT: 13:\n",
      "The words \"or Rajpramukh\" omitted by the Adaptation of Laws (No. 2) Order,\n",
      "\n",
      "BOT: 10:\n",
      "2. Subs. by the A. O. 1937, for \"not authorised by Government\".\n",
      "\n",
      "BOT: 302:\n",
      "Punishment for murder.--Whoever commits murder shall be punished with death, or 1*[imprisonment for life], and shall also be liable to fine.\n",
      "\n",
      "Kindly enter a more detailed report that contains strong keywords to help you out in your case.\n",
      "BOT: 31:\n",
      "\n",
      "\n",
      "BOT: 31:\n",
      "\n",
      "\n"
     ]
    },
    {
     "ename": "IndexError",
     "evalue": "list index out of range",
     "output_type": "error",
     "traceback": [
      "\u001b[1;31m---------------------------------------------------------------------------\u001b[0m",
      "\u001b[1;31mIndexError\u001b[0m                                Traceback (most recent call last)",
      "\u001b[1;32mc:\\Users\\tripa\\Desktop\\SIH\\LegalDraft\\technical\\chatBot.ipynb Cell 7\u001b[0m line \u001b[0;36m1\n\u001b[1;32m----> <a href='vscode-notebook-cell:/c%3A/Users/tripa/Desktop/SIH/LegalDraft/technical/chatBot.ipynb#W6sZmlsZQ%3D%3D?line=0'>1</a>\u001b[0m chatbot(data)\n",
      "\u001b[1;32mc:\\Users\\tripa\\Desktop\\SIH\\LegalDraft\\technical\\chatBot.ipynb Cell 7\u001b[0m line \u001b[0;36m1\n\u001b[0;32m     <a href='vscode-notebook-cell:/c%3A/Users/tripa/Desktop/SIH/LegalDraft/technical/chatBot.ipynb#W6sZmlsZQ%3D%3D?line=13'>14</a>\u001b[0m cnt \u001b[39m=\u001b[39m \u001b[39m1\u001b[39m\n\u001b[0;32m     <a href='vscode-notebook-cell:/c%3A/Users/tripa/Desktop/SIH/LegalDraft/technical/chatBot.ipynb#W6sZmlsZQ%3D%3D?line=14'>15</a>\u001b[0m \u001b[39mif\u001b[39;00m best_match:\n\u001b[1;32m---> <a href='vscode-notebook-cell:/c%3A/Users/tripa/Desktop/SIH/LegalDraft/technical/chatBot.ipynb#W6sZmlsZQ%3D%3D?line=15'>16</a>\u001b[0m     law \u001b[39m=\u001b[39m get_section(best_match[i], data)\n\u001b[0;32m     <a href='vscode-notebook-cell:/c%3A/Users/tripa/Desktop/SIH/LegalDraft/technical/chatBot.ipynb#W6sZmlsZQ%3D%3D?line=16'>17</a>\u001b[0m     \u001b[39mprint\u001b[39m(\u001b[39mf\u001b[39m\u001b[39m'\u001b[39m\u001b[39mBOT: \u001b[39m\u001b[39m{\u001b[39;00mlaw[\u001b[39m0\u001b[39m]\u001b[39m}\u001b[39;00m\u001b[39m:\u001b[39m\u001b[39m\\n\u001b[39;00m\u001b[39m{\u001b[39;00mlaw[\u001b[39m1\u001b[39m]\u001b[39m}\u001b[39;00m\u001b[39m'\u001b[39m )\n\u001b[0;32m     <a href='vscode-notebook-cell:/c%3A/Users/tripa/Desktop/SIH/LegalDraft/technical/chatBot.ipynb#W6sZmlsZQ%3D%3D?line=17'>18</a>\u001b[0m     \u001b[39mprint\u001b[39m()\n",
      "\u001b[1;31mIndexError\u001b[0m: list index out of range"
     ]
    }
   ],
   "source": [
    "chatbot(data)"
   ]
  }
 ],
 "metadata": {
  "kernelspec": {
   "display_name": "Python 3 (ipykernel)",
   "language": "python",
   "name": "python3"
  },
  "language_info": {
   "codemirror_mode": {
    "name": "ipython",
    "version": 3
   },
   "file_extension": ".py",
   "mimetype": "text/x-python",
   "name": "python",
   "nbconvert_exporter": "python",
   "pygments_lexer": "ipython3",
   "version": "3.11.5"
  }
 },
 "nbformat": 4,
 "nbformat_minor": 5
}
