{
 "cells": [
  {
   "cell_type": "markdown",
   "id": "f0ca03fe-36b4-48e6-b62f-346a1e4b6efe",
   "metadata": {},
   "source": [
    "## Importing Dependencies "
   ]
  },
  {
   "cell_type": "code",
   "execution_count": 101,
   "id": "76795577-a441-416f-b8bc-979b203c24bb",
   "metadata": {},
   "outputs": [],
   "source": [
    "import PyPDF2\n",
    "import re\n",
    "import json"
   ]
  },
  {
   "cell_type": "markdown",
   "id": "96167b75-ed07-4887-94a9-631ec13f5b3d",
   "metadata": {},
   "source": [
    "## Reading Indian Penal Code 1860 "
   ]
  },
  {
   "cell_type": "code",
   "execution_count": 3,
   "id": "726adb55-c6b3-4d0b-b500-4d08178b9188",
   "metadata": {},
   "outputs": [],
   "source": [
    "ipc_path = 'datasets/THE-INDIAN-PENAL-CODE-1860.pdf'"
   ]
  },
  {
   "cell_type": "code",
   "execution_count": 117,
   "id": "5732969b-2df0-4108-8ce9-dcf19585fe87",
   "metadata": {
    "scrolled": true
   },
   "outputs": [],
   "source": [
    "with open(ipc_path, 'rb') as file:\n",
    "    reader = PyPDF2.PdfReader(file)\n",
    "    pdf_text = []\n",
    "\n",
    "    for page in reader.pages:\n",
    "        content = page.extract_text()\n",
    "        pdf_text.append(content)\n",
    "        \n",
    "pdf_text = ''.join(pdf_text)"
   ]
  },
  {
   "cell_type": "markdown",
   "id": "a567315a-8ece-44c3-8961-ab1ec49d9c11",
   "metadata": {},
   "source": [
    "## Mapping Number to corresponding Section"
   ]
  },
  {
   "cell_type": "code",
   "execution_count": 118,
   "id": "6b965b0d-1aec-41a5-ade0-9b05e36dda57",
   "metadata": {},
   "outputs": [],
   "source": [
    "pdf_text = re.sub(r'\\n+', '', pdf_text)\n",
    "pdf_text = re.sub(r'\\n\\s*\\n', '\\n', pdf_text)\n",
    "\n",
    "pattern = re.compile(r'(\\d+)\\. ([\\s\\S]+?)(?=\\d+\\.|$)')\n",
    "matches = pattern.findall(pdf_text)"
   ]
  },
  {
   "cell_type": "code",
   "execution_count": 122,
   "id": "22f13046-c42d-4f0c-9b31-fa8b8b9362ae",
   "metadata": {},
   "outputs": [],
   "source": [
    "IPC_dict = {}\n",
    "\n",
    "for match in matches:\n",
    "    number = match[0]\n",
    "    section = match[1].strip()\n",
    "    \n",
    "    IPC_dict[number] = section"
   ]
  },
  {
   "cell_type": "code",
   "execution_count": 123,
   "id": "1ea11502-39c0-4583-b006-d7eb3e6c5af3",
   "metadata": {},
   "outputs": [
    {
     "name": "stdout",
     "output_type": "stream",
     "text": [
      "Voluntarily causing hurt.--Whoever does any act with the intention of thereby causing hurt to any person, or with the knowledge that he is likely thereby to cause hurt to any person, and does thereby cause hurt to any person, is said \"voluntarily to cause hurt\".\n"
     ]
    }
   ],
   "source": [
    "print(IPC_dict['321'])"
   ]
  },
  {
   "cell_type": "markdown",
   "id": "fc20c38f-6f6f-400b-a5c6-b7e1442f70a9",
   "metadata": {},
   "source": [
    "## Exporting Dictionary "
   ]
  },
  {
   "cell_type": "code",
   "execution_count": 124,
   "id": "69481705-df3c-408f-95e3-99d428c627b9",
   "metadata": {},
   "outputs": [],
   "source": [
    "dict_path = 'datasets/IPC_dictionary.json'"
   ]
  },
  {
   "cell_type": "code",
   "execution_count": 125,
   "id": "b290b9d4-90c2-4d3f-a7b9-6dba4525566b",
   "metadata": {},
   "outputs": [],
   "source": [
    "with open(dict_path, 'w') as file:\n",
    "    json.dump(IPC_dict, file)"
   ]
  },
  {
   "cell_type": "code",
   "execution_count": 127,
   "id": "2db74722-ae11-4dc0-aa32-a9c9b36a6f62",
   "metadata": {},
   "outputs": [],
   "source": [
    "with open(dict_path, 'r') as file:\n",
    "    content = json.load(file)"
   ]
  },
  {
   "cell_type": "code",
   "execution_count": 128,
   "id": "36418f3e-a221-4566-988e-ac6cda16d399",
   "metadata": {},
   "outputs": [
    {
     "data": {
      "text/plain": [
       "'Delivery of coin possessed with knowledge that it is counterfeit.--Whoever, having any counterfeit coin, which at the time when he became possessed of it, he knew to be counterfeit, fraudulently or with intent that fraud may be committed, delivers the same to any persons or attempts to induce any person to receive it, shall be punished with imprisonment of either description for a term which may extend to five years, and shall also be liable to fine.'"
      ]
     },
     "execution_count": 128,
     "metadata": {},
     "output_type": "execute_result"
    }
   ],
   "source": [
    "content['239']"
   ]
  }
 ],
 "metadata": {
  "kernelspec": {
   "display_name": "Python 3 (ipykernel)",
   "language": "python",
   "name": "python3"
  },
  "language_info": {
   "codemirror_mode": {
    "name": "ipython",
    "version": 3
   },
   "file_extension": ".py",
   "mimetype": "text/x-python",
   "name": "python",
   "nbconvert_exporter": "python",
   "pygments_lexer": "ipython3",
   "version": "3.10.10"
  }
 },
 "nbformat": 4,
 "nbformat_minor": 5
}
